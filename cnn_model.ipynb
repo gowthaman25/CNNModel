{
  "nbformat": 4,
  "nbformat_minor": 0,
  "metadata": {
    "colab": {
      "provenance": []
    },
    "kernelspec": {
      "name": "python3",
      "display_name": "Python 3"
    }
  },
  "cells": [
    {
      "cell_type": "code",
      "metadata": {
        "id": "_cV9aVxKhVra"
      },
      "source": [
        "from keras.datasets import mnist\n",
        "import numpy as np \n",
        "import matplotlib.pyplot as plt\n",
        "from keras.utils import to_categorical"
      ],
      "execution_count": null,
      "outputs": []
    },
    {
      "cell_type": "code",
      "source": [
        "#download mnist data and split into train and test sets\n",
        "(X_train, y_train), (X_test, y_test) = mnist.load_data()\n",
        "\n",
        "print(\"data sizes are :\",X_train.shape,y_train.shape,X_test.shape,y_test.shape)"
      ],
      "metadata": {
        "colab": {
          "base_uri": "https://localhost:8080/"
        },
        "id": "9CoZzwv6rKAi",
        "outputId": "7ad29ca6-446a-4388-b441-2023a32aed47"
      },
      "execution_count": null,
      "outputs": [
        {
          "output_type": "stream",
          "name": "stdout",
          "text": [
            "data sizes are : (60000, 28, 28) (60000,) (10000, 28, 28) (10000,)\n"
          ]
        }
      ]
    },
    {
      "cell_type": "code",
      "source": [
        "#plot the first image in the dataset\n",
        "plt.imshow(X_train[0])"
      ],
      "metadata": {
        "colab": {
          "base_uri": "https://localhost:8080/",
          "height": 447
        },
        "id": "EJOVt1_br1Gz",
        "outputId": "395091bb-f928-414d-96d0-869b915f4f95"
      },
      "execution_count": null,
      "outputs": [
        {
          "output_type": "execute_result",
          "data": {
            "text/plain": [
              "<matplotlib.image.AxesImage at 0x7f7e0578a830>"
            ]
          },
          "metadata": {},
          "execution_count": 3
        },
        {
          "output_type": "display_data",
          "data": {
            "text/plain": [
              "<Figure size 640x480 with 1 Axes>"
            ],
            "image/png": "[encoded data removed]"
          },
          "metadata": {}
        }
      ]
    },
    {
      "cell_type": "code",
      "source": [
        "#reshape data to fit model\n",
        "X_train = X_train.reshape(60000,28,28,1)\n",
        "X_test = X_test.reshape(10000,28,28,1)"
      ],
      "metadata": {
        "id": "fZg-LgArsFXs"
      },
      "execution_count": null,
      "outputs": []
    },
    {
      "cell_type": "code",
      "source": [
        "#one-hot encode target column\n",
        "y_train = to_categorical(y_train)\n",
        "y_test = to_categorical(y_test)\n",
        "y_train[0]"
      ],
      "metadata": {
        "colab": {
          "base_uri": "https://localhost:8080/"
        },
        "id": "0rRq07BXsQNZ",
        "outputId": "f4f7f6da-dd1e-427a-abf6-95aefaec194c"
      },
      "execution_count": null,
      "outputs": [
        {
          "output_type": "execute_result",
          "data": {
            "text/plain": [
              "array([0., 0., 0., 0., 0., 1., 0., 0., 0., 0.], dtype=float32)"
            ]
          },
          "metadata": {},
          "execution_count": 5
        }
      ]
    },
    {
      "cell_type": "code",
      "source": [
        "from keras.models import  Sequential\n",
        "from keras.layers import Dense, Conv2D , MaxPool2D , Flatten , Dropout , BatchNormalization\n",
        "\n",
        "model = Sequential()\n",
        "\n",
        "model.add(Conv2D(64, kernel_size=3 ,strides = 1 , padding = 'same' , activation = \"relu\", input_shape=(28,28,1)))\n",
        "model.add(BatchNormalization())\n",
        "model.add(MaxPool2D((2,2) , strides = 2 , padding = 'same'))\n",
        "\n",
        "model.add(Conv2D(32, kernel_size=3 ,strides = 1 , padding = 'same' , activation = \"relu\", input_shape=(28,28,1)))\n",
        "model.add(Dropout(0.2))\n",
        "model.add(BatchNormalization())\n",
        "#model.add(MaxPool2D((2,2) , strides = 2 , padding = 'same'))\n",
        "\n",
        "model.add(Flatten())\n",
        "model.add(Dense(units = 10 , activation = 'softmax'))\n",
        "\n",
        "model.summary()\n"
      ],
      "metadata": {
        "colab": {
          "base_uri": "https://localhost:8080/"
        },
        "id": "nCMrFgxcurrR",
        "outputId": "2d029c4c-22bc-42db-fa50-efe28a2de9a8"
      },
      "execution_count": null,
      "outputs": [
        {
          "output_type": "stream",
          "name": "stdout",
          "text": [
            "Model: \"sequential\"\n",
            "_________________________________________________________________\n",
            " Layer (type)                Output Shape              Param #   \n",
            "=================================================================\n",
            " conv2d (Conv2D)             (None, 28, 28, 64)        640       \n",
            "                                                                 \n",
            " batch_normalization (BatchN  (None, 28, 28, 64)       256       \n",
            " ormalization)                                                   \n",
            "                                                                 \n",
            " max_pooling2d (MaxPooling2D  (None, 14, 14, 64)       0         \n",
            " )                                                               \n",
            "                                                                 \n",
            " conv2d_1 (Conv2D)           (None, 14, 14, 32)        18464     \n",
            "                                                                 \n",
            " dropout (Dropout)           (None, 14, 14, 32)        0         \n",
            "                                                                 \n",
            " batch_normalization_1 (Batc  (None, 14, 14, 32)       128       \n",
            " hNormalization)                                                 \n",
            "                                                                 \n",
            " flatten (Flatten)           (None, 6272)              0         \n",
            "                                                                 \n",
            " dense (Dense)               (None, 10)                62730     \n",
            "                                                                 \n",
            "=================================================================\n",
            "Total params: 82,218\n",
            "Trainable params: 82,026\n",
            "Non-trainable params: 192\n",
            "_________________________________________________________________\n"
          ]
        }
      ]
    },
    {
      "cell_type": "code",
      "source": [
        "#compile model using accuracy to measure model performance\n",
        "model.compile(optimizer='adam', loss='categorical_crossentropy', metrics=['accuracy'])"
      ],
      "metadata": {
        "id": "ZjI_o_4z1yom"
      },
      "execution_count": null,
      "outputs": []
    },
    {
      "cell_type": "code",
      "source": [
        "#train the model\n",
        "model.fit(X_train, y_train, validation_data=(X_test, y_test), epochs=3)"
      ],
      "metadata": {
        "colab": {
          "base_uri": "https://localhost:8080/"
        },
        "id": "1C0ZgMlI12q2",
        "outputId": "31a6b12a-7232-4ad3-ab37-47dcdd69ca94"
      },
      "execution_count": null,
      "outputs": [
        {
          "output_type": "stream",
          "name": "stdout",
          "text": [
            "Epoch 1/3\n",
            "1875/1875 [==============================] - 155s 82ms/step - loss: 0.1357 - accuracy: 0.9619 - val_loss: 0.0920 - val_accuracy: 0.9748\n",
            "Epoch 2/3\n",
            "1875/1875 [==============================] - 140s 74ms/step - loss: 0.0610 - accuracy: 0.9823 - val_loss: 0.0564 - val_accuracy: 0.9839\n",
            "Epoch 3/3\n",
            "1875/1875 [==============================] - 148s 79ms/step - loss: 0.0405 - accuracy: 0.9877 - val_loss: 0.0404 - val_accuracy: 0.9881\n"
          ]
        },
        {
          "output_type": "execute_result",
          "data": {
            "text/plain": [
              "<keras.callbacks.History at 0x7f7dfd00ac50>"
            ]
          },
          "metadata": {},
          "execution_count": 8
        }
      ]
    },
    {
      "cell_type": "code",
      "source": [
        "#predict first 4 images in the test set\n",
        "cnn_prediction = model.predict(X_test[::4])\n",
        "cnn_prediction"
      ],
      "metadata": {
        "colab": {
          "base_uri": "https://localhost:8080/"
        },
        "id": "cLLuqOwq17Rk",
        "outputId": "1793837b-f586-4c8a-c8e5-e6ca55c44e8d"
      },
      "execution_count": null,
      "outputs": [
        {
          "output_type": "stream",
          "name": "stdout",
          "text": [
            "79/79 [==============================] - 1s 14ms/step\n"
          ]
        },
        {
          "output_type": "execute_result",
          "data": {
            "text/plain": [
              "array([[4.8336283e-12, 3.9190127e-17, 1.6742089e-11, ..., 9.9999994e-01,\n",
              "        3.2422639e-14, 2.2846230e-10],\n",
              "       [1.9392474e-15, 1.6270532e-15, 6.4525483e-15, ..., 1.6290600e-14,\n",
              "        2.5682971e-11, 1.6801237e-11],\n",
              "       [4.6701675e-07, 2.3599793e-13, 1.5452539e-11, ..., 7.4339833e-14,\n",
              "        1.2974625e-05, 3.4658687e-08],\n",
              "       ...,\n",
              "       [5.4892077e-13, 6.3672941e-19, 7.3936437e-16, ..., 9.2717613e-16,\n",
              "        1.3181886e-10, 1.6661351e-12],\n",
              "       [1.4469777e-10, 8.7758475e-14, 7.8255024e-12, ..., 5.2303481e-08,\n",
              "        5.6661575e-10, 9.9869436e-01],\n",
              "       [4.3815698e-12, 5.4090277e-13, 6.8283568e-10, ..., 7.3096119e-13,\n",
              "        8.1423697e-13, 2.6170863e-10]], dtype=float32)"
            ]
          },
          "metadata": {},
          "execution_count": 13
        }
      ]
    },
    {
      "cell_type": "code",
      "source": [
        "y_test[:4]"
      ],
      "metadata": {
        "colab": {
          "base_uri": "https://localhost:8080/"
        },
        "id": "0uotnyM_Cjzh",
        "outputId": "6d84539f-226e-4bdb-82c0-871dbfc353f2"
      },
      "execution_count": null,
      "outputs": [
        {
          "output_type": "execute_result",
          "data": {
            "text/plain": [
              "array([[0., 0., 0., 0., 0., 0., 0., 1., 0., 0.],\n",
              "       [0., 0., 1., 0., 0., 0., 0., 0., 0., 0.],\n",
              "       [0., 1., 0., 0., 0., 0., 0., 0., 0., 0.],\n",
              "       [1., 0., 0., 0., 0., 0., 0., 0., 0., 0.]], dtype=float32)"
            ]
          },
          "metadata": {},
          "execution_count": 14
        }
      ]
    },
    {
      "cell_type": "code",
      "source": [
        "print(\"Accuracy of the model is - \" , model.evaluate(X_test,y_test)[1]*100 , \"%\")"
      ],
      "metadata": {
        "colab": {
          "base_uri": "https://localhost:8080/"
        },
        "id": "CZwF1gWnFcQ_",
        "outputId": "f6c8307c-be51-4ac8-f13c-40b48a80f406"
      },
      "execution_count": null,
      "outputs": [
        {
          "output_type": "stream",
          "name": "stdout",
          "text": [
            "313/313 [==============================] - 6s 18ms/step - loss: 0.0404 - accuracy: 0.9881\n",
            "Accuracy of the model is -  98.8099992275238 %\n"
          ]
        }
      ]
    }
  ]
}